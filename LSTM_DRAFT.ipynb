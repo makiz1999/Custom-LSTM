{
 "cells": [
  {
   "cell_type": "code",
   "execution_count": null,
   "metadata": {},
   "outputs": [],
   "source": [
    "import numpy as np\n",
    "import matplotlib.pyplot as plt\n",
    "from sklearn.preprocessing import MinMaxScaler\n",
    "import pandas as pd\n",
    "# LSTM packages\n",
    "from source import LstmParam as lstmP\n",
    "from source import LstmNetwork as lstmN\n"
   ]
  },
  {
   "cell_type": "code",
   "execution_count": null,
   "metadata": {},
   "outputs": [],
   "source": [
    "def generate_time_series(batch_size, n_steps, n_features):\n",
    "    \n",
    "    freq1, freq2, offsets1, offsets2 = np.random.rand(4, batch_size, n_features)\n",
    "    \n",
    "    time = np.linspace(0, 1, n_steps)\n",
    "    series = 0.5 * np.sin((time - offsets1) * (freq1 * 10 + 10)) # wave 1\n",
    "    series += 0.2 * np.sin((time - offsets2) * (freq2 * 20 + 20)) # + wave 2\n",
    "    series += 0.1 * (np.random.rand(batch_size, n_steps) - 0.5) # + noise\n",
    "    \n",
    "    return series[..., np.newaxis].astype(np.float32)\n",
    "\n"
   ]
  },
  {
   "cell_type": "code",
   "execution_count": null,
   "metadata": {},
   "outputs": [],
   "source": [
    "# X = np.array([[[]]])\n",
    "# for i in range(10):\n",
    "#     Y = np.array([[]])\n",
    "#     for j in range(7):\n",
    "#         arr = np.linspace(1,2,5)\n",
    "#         print(arr)\n",
    "#         Z = np.array([])\n",
    "#         Z = np.append(Z, arr)\n",
    "X = np.empty([3,5,7])\n",
    "for sample in range(3):\n",
    "    Y = np.empty([5,7])\n",
    "    for time_step in range(5):\n",
    "        arr = np.linspace(-(sample+time_step),sample**2+time_step**2+1,7)\n",
    "        Y[time_step] = arr\n",
    "    X[sample] = Y\n",
    "print(X[0])"
   ]
  },
  {
   "cell_type": "code",
   "execution_count": null,
   "metadata": {},
   "outputs": [],
   "source": [
    "scaler = MinMaxScaler(feature_range=(0, 1))\n",
    "np.random.seed(0)\n",
    "\n",
    "\n",
    "# Generating Time-series data\n",
    "n_steps_X = 5 # time steps for data\n",
    "n_steps_Y = 5 # time steps for target\n",
    "\n",
    "n_samples = 50 # number of samples\n",
    "n_features = 1 # number of features\n",
    "\n",
    "series = generate_time_series(n_samples, n_steps_X + n_steps_Y, n_features)\n",
    "series = scaler.fit_transform(series.reshape(-1, series.shape[-1])).reshape(series.shape)\n",
    "\n",
    "X = scaler.fit_transform(X.reshape(-1, X.shape[-1])).reshape(X.shape)\n",
    "# Splitting the time series into train and test data\n",
    "trainX, trainY = series[:, :n_steps_X], series[:, n_steps_Y:]\n",
    "# trainX = X[:,:,:5]\n",
    "# trainY = X[:,:, 5:]\n",
    "print(trainX[0])\n",
    "\n",
    "print(trainX.shape)\n",
    "print(trainY.shape)\n",
    "plt.plot(trainX[0,:,1], label = 'Train-X')\n",
    "plt.plot(trainY[0,:,1], label = 'Train-Y')\n",
    "plt.xlabel('Time')\n",
    "plt.ylabel('Normalized value')\n",
    "plt.legend()\n",
    "\n"
   ]
  },
  {
   "cell_type": "code",
   "execution_count": null,
   "metadata": {},
   "outputs": [],
   "source": [
    "n_samples = len(trainX)\n",
    "n_output = 1 # Dense layer output\n",
    "n_neurons = 16\n",
    "n_features = 5\n",
    "\n",
    "\n",
    "# First setup the LSTM parameters (weights and biases)\n",
    "lstm_param = lstmP.LstmParam(n_samples, n_neurons, n_features, n_output)\n",
    "\n",
    "# Second, create LSTM network using LSTM parameters (weights and biases)\n",
    "lstm_net = lstmN.LstmNetwork(lstm_param)\n",
    "\n"
   ]
  },
  {
   "cell_type": "code",
   "execution_count": null,
   "metadata": {},
   "outputs": [],
   "source": [
    "loss_arr = []\n",
    "arr = []\n",
    "\n",
    "for epoch in range(200):\n",
    "        \n",
    "        \n",
    "        # loop through the model for n_steps times\n",
    "        # at each time step, it sends a data matrix (n_sample X n_features)\n",
    "        \n",
    "        for tim_ind in range(len(trainY[0])):  \n",
    "                    \n",
    "                 # forward pass for all time point once\n",
    "                 # node_list is created here\n",
    "                 pred_y = lstm_net.x_list_time_loop(trainX[:,tim_ind,:])\n",
    "                \n",
    "                 \n",
    "                # print (pred_y)\n",
    "                \n",
    "        # back propagation after one complete forward pass        \n",
    "        loss = lstm_net.y_list_is(trainY, lstmN.LossLayer) \n",
    "        \n",
    "        \n",
    "        loss_arr.append(loss)\n",
    "        \n",
    "       # print(\"loss:\", \"%.3e\" % loss)\n",
    "        \n",
    "        # update the weights and biases\n",
    "        lstm_param.apply_diff(lr=0.005)\n",
    "        \n",
    "        # clean up node_list after every epoch\n",
    "        lstm_net.x_list_clear()\n",
    "        \n",
    "        "
   ]
  },
  {
   "cell_type": "code",
   "execution_count": null,
   "metadata": {},
   "outputs": [],
   "source": [
    "#print (loss)\n",
    "#print ((loss_arr))\n",
    "plt.plot(loss_arr)"
   ]
  },
  {
   "cell_type": "code",
   "execution_count": null,
   "metadata": {},
   "outputs": [],
   "source": [
    "# Testing using training data\n",
    "# To see the training accuracy \n",
    "\n",
    "\n",
    "for tim_ind in range(len(trainY[0])):  \n",
    "                    \n",
    "                 # forward pass for all time point once\n",
    "                 # node_list is created here\n",
    "        pred_y = lstm_net.x_list_time_loop(trainX[:,tim_ind,:])\n",
    "        \n",
    "        \n",
    "        \n",
    "print (pred_y)"
   ]
  },
  {
   "cell_type": "code",
   "execution_count": null,
   "metadata": {},
   "outputs": [],
   "source": [
    "\n",
    "# arr = scaler.inverse_transform(pred_y)\n",
    "# trainY = scaler.inverse_transform(trainY)\n",
    "    \n",
    "plt.plot(pred_y[0],'b-*')\n",
    "plt.plot (trainY[:,tim_ind],'r')"
   ]
  },
  {
   "cell_type": "code",
   "execution_count": null,
   "metadata": {},
   "outputs": [],
   "source": []
  }
 ],
 "metadata": {
  "kernelspec": {
   "display_name": "Python 3.9.13 64-bit",
   "language": "python",
   "name": "python3"
  },
  "language_info": {
   "codemirror_mode": {
    "name": "ipython",
    "version": 3
   },
   "file_extension": ".py",
   "mimetype": "text/x-python",
   "name": "python",
   "nbconvert_exporter": "python",
   "pygments_lexer": "ipython3",
   "version": "3.9.13"
  },
  "vscode": {
   "interpreter": {
    "hash": "aee8b7b246df8f9039afb4144a1f6fd8d2ca17a180786b69acc140d282b71a49"
   }
  }
 },
 "nbformat": 4,
 "nbformat_minor": 4
}
